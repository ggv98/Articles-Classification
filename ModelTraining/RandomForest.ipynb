{
 "cells": [
  {
   "cell_type": "markdown",
   "id": "3de82841",
   "metadata": {},
   "source": [
    "# Random Forest"
   ]
  },
  {
   "cell_type": "code",
   "execution_count": 2,
   "id": "3cb551e3",
   "metadata": {},
   "outputs": [],
   "source": [
    "import pickle\n",
    "from pprint import pprint\n",
    "from sklearn.feature_extraction.text import TfidfVectorizer\n",
    "from sklearn.ensemble import RandomForestClassifier\n",
    "from sklearn.model_selection import RandomizedSearchCV, GridSearchCV, ShuffleSplit\n",
    "from sklearn.metrics import classification_report, confusion_matrix, accuracy_score\n",
    "import matplotlib.pyplot as plt\n",
    "import seaborn as sns\n",
    "import pandas as pd\n",
    "import numpy as np\n"
   ]
  },
  {
   "cell_type": "markdown",
   "id": "055e4f4c",
   "metadata": {},
   "source": [
    "## Import Data"
   ]
  },
  {
   "cell_type": "code",
   "execution_count": 3,
   "id": "a5e68a9e",
   "metadata": {},
   "outputs": [],
   "source": [
    "# Dataframe\n",
    "path_df = \"../Pickles/df.pickle\"\n",
    "with open(path_df, 'rb') as data:\n",
    "    df = pickle.load(data)\n",
    "\n",
    "# features_train\n",
    "path_features_train = \"../Pickles/features_train.pickle\"\n",
    "with open(path_features_train, 'rb') as data:\n",
    "    features_train = pickle.load(data)\n",
    "\n",
    "# labels_train\n",
    "path_labels_train = \"../Pickles/labels_train.pickle\"\n",
    "with open(path_labels_train, 'rb') as data:\n",
    "    labels_train = pickle.load(data)\n",
    "\n",
    "# features_test\n",
    "path_features_test = \"../Pickles/features_test.pickle\"\n",
    "with open(path_features_test, 'rb') as data:\n",
    "    features_test = pickle.load(data)\n",
    "\n",
    "# labels_test\n",
    "path_labels_test = \"../Pickles/labels_test.pickle\"\n",
    "with open(path_labels_test, 'rb') as data:\n",
    "    labels_test = pickle.load(data)"
   ]
  },
  {
   "cell_type": "markdown",
   "id": "25139995",
   "metadata": {},
   "source": [
    "## Hyperparameter tuning with cross-validation"
   ]
  },
  {
   "cell_type": "markdown",
   "id": "da577224",
   "metadata": {},
   "source": [
    "Let see list of RandomForestClassifier that can be tune during training process"
   ]
  },
  {
   "cell_type": "code",
   "execution_count": 54,
   "id": "e807c6d5",
   "metadata": {},
   "outputs": [
    {
     "name": "stdout",
     "output_type": "stream",
     "text": [
      "Parameters than can be tune:\n",
      "\n",
      "{'bootstrap': True,\n",
      " 'ccp_alpha': 0.0,\n",
      " 'class_weight': None,\n",
      " 'criterion': 'gini',\n",
      " 'max_depth': None,\n",
      " 'max_features': 'auto',\n",
      " 'max_leaf_nodes': None,\n",
      " 'max_samples': None,\n",
      " 'min_impurity_decrease': 0.0,\n",
      " 'min_samples_leaf': 1,\n",
      " 'min_samples_split': 2,\n",
      " 'min_weight_fraction_leaf': 0.0,\n",
      " 'n_estimators': 100,\n",
      " 'n_jobs': None,\n",
      " 'oob_score': False,\n",
      " 'random_state': 10,\n",
      " 'verbose': 0,\n",
      " 'warm_start': False}\n"
     ]
    }
   ],
   "source": [
    "randomforest = RandomForestClassifier(random_state = 10)\n",
    "\n",
    "print('Parameters than can be tune:\\n')\n",
    "pprint(randomforest.get_params())"
   ]
  },
  {
   "cell_type": "markdown",
   "id": "d64ff3e6",
   "metadata": {},
   "source": [
    "## Hyperparameter tuning with Randomized Search Cross Validation"
   ]
  },
  {
   "cell_type": "code",
   "execution_count": 59,
   "id": "b265ac14",
   "metadata": {},
   "outputs": [
    {
     "name": "stdout",
     "output_type": "stream",
     "text": [
      "{'bootstrap': [True, False],\n",
      " 'max_depth': [20, 40, 60, 80, 100, None],\n",
      " 'max_features': ['auto', 'sqrt'],\n",
      " 'min_samples_leaf': [1, 2, 4],\n",
      " 'min_samples_split': [2, 5, 10],\n",
      " 'n_estimators': [200, 400, 600, 800, 1000]}\n"
     ]
    }
   ],
   "source": [
    "n_estimators = [int(x) for x in np.linspace(start = 200, stop = 1000, num = 5)]\n",
    "max_features = ['auto', 'sqrt']\n",
    "max_depth = [int(x) for x in np.linspace(20, 100, num = 5)] + [None]\n",
    "min_samples_split = [2, 5, 10]\n",
    "min_samples_leaf = [1, 2, 4]\n",
    "bootstrap = [True, False]\n",
    "\n",
    "# Create list of parameter that will be tested during Randomized Search Cross Validation\n",
    "parameters = {'n_estimators': n_estimators,\n",
    "               'max_features': max_features,\n",
    "               'max_depth': max_depth,\n",
    "               'min_samples_split': min_samples_split,\n",
    "               'min_samples_leaf': min_samples_leaf,\n",
    "               'bootstrap': bootstrap}\n",
    "\n",
    "pprint(parameters)"
   ]
  },
  {
   "cell_type": "code",
   "execution_count": 78,
   "id": "59b2c0c4",
   "metadata": {},
   "outputs": [
    {
     "name": "stdout",
     "output_type": "stream",
     "text": [
      "Fitting 3 folds for each of 40 candidates, totalling 120 fits\n"
     ]
    },
    {
     "data": {
      "text/plain": [
       "RandomizedSearchCV(cv=3, estimator=RandomForestClassifier(random_state=10),\n",
       "                   n_iter=40, n_jobs=6,\n",
       "                   param_distributions={'bootstrap': [True, False],\n",
       "                                        'max_depth': [20, 40, 60, 80, 100,\n",
       "                                                      None],\n",
       "                                        'max_features': ['auto', 'sqrt'],\n",
       "                                        'min_samples_leaf': [1, 2, 4],\n",
       "                                        'min_samples_split': [2, 5, 10],\n",
       "                                        'n_estimators': [200, 400, 600, 800,\n",
       "                                                         1000]},\n",
       "                   random_state=10, scoring='accuracy', verbose=3)"
      ]
     },
     "execution_count": 78,
     "metadata": {},
     "output_type": "execute_result"
    }
   ],
   "source": [
    "classifier = RandomForestClassifier(random_state=10)\n",
    "\n",
    "random_search = RandomizedSearchCV(estimator=classifier,\n",
    "                                   param_distributions=random_grid,\n",
    "                                   n_iter=40,\n",
    "                                   scoring='accuracy',\n",
    "                                   cv=3,\n",
    "                                   n_jobs=6,\n",
    "                                   verbose=3, \n",
    "                                   random_state=10)\n",
    "\n",
    "random_search.fit(features_traibvn, labels_train)"
   ]
  },
  {
   "cell_type": "markdown",
   "id": "2180a749",
   "metadata": {},
   "source": [
    "Let see the result of Hyperparameter tuning"
   ]
  },
  {
   "cell_type": "code",
   "execution_count": 79,
   "id": "cd349e14",
   "metadata": {},
   "outputs": [
    {
     "name": "stdout",
     "output_type": "stream",
     "text": [
      "The best hyperparameters after Random Search cross-validation are:\n",
      "{'bootstrap': False,\n",
      " 'max_depth': 100,\n",
      " 'max_features': 'auto',\n",
      " 'min_samples_leaf': 1,\n",
      " 'min_samples_split': 10,\n",
      " 'n_estimators': 600}\n",
      "The accuracy of a model is:\n",
      "0.8002261034472616\n"
     ]
    }
   ],
   "source": [
    "print(\"The best hyperparameters after Random Search cross-validation are:\")\n",
    "pprint(random_search.best_params_)\n",
    "print(\"The accuracy of a model is:\")\n",
    "print(random_search.best_score_)"
   ]
  },
  {
   "cell_type": "markdown",
   "id": "322e54d2",
   "metadata": {},
   "source": [
    "## Hyperparameter tuning with Grid Search Cross Validation"
   ]
  },
  {
   "cell_type": "code",
   "execution_count": 80,
   "id": "35c8b929",
   "metadata": {
    "scrolled": true
   },
   "outputs": [
    {
     "name": "stdout",
     "output_type": "stream",
     "text": [
      "Fitting 3 folds for each of 18 candidates, totalling 54 fits\n"
     ]
    },
    {
     "data": {
      "text/plain": [
       "GridSearchCV(cv=ShuffleSplit(n_splits=3, random_state=10, test_size=0.33, train_size=None),\n",
       "             estimator=RandomForestClassifier(random_state=10), n_jobs=6,\n",
       "             param_grid={'bootstrap': [False], 'max_depth': [90, 100, None],\n",
       "                         'max_features': ['auto'], 'min_samples_leaf': [1, 2],\n",
       "                         'min_samples_split': [9, 10, 11],\n",
       "                         'n_estimators': [600]},\n",
       "             scoring='accuracy', verbose=5)"
      ]
     },
     "execution_count": 80,
     "metadata": {},
     "output_type": "execute_result"
    }
   ],
   "source": [
    "# Create the parameters based on the results of random search \n",
    "bootstrap = [False]\n",
    "max_depth = [90, 100, None]\n",
    "max_features = ['auto']\n",
    "min_samples_leaf = [1, 2]\n",
    "min_samples_split = [9, 10, 11]\n",
    "n_estimators = [600]\n",
    "\n",
    "parameters = {\n",
    "    'bootstrap': bootstrap,\n",
    "    'max_depth': max_depth,\n",
    "    'max_features': max_features,\n",
    "    'min_samples_leaf': min_samples_leaf,\n",
    "    'min_samples_split': min_samples_split,\n",
    "    'n_estimators': n_estimators\n",
    "}\n",
    "\n",
    "\n",
    "classifier = RandomForestClassifier(random_state=10)\n",
    "\n",
    "cv_sets = ShuffleSplit(n_splits = 3, test_size = .33, random_state = 10)\n",
    "\n",
    "grid_search = GridSearchCV(estimator=classifier, \n",
    "                           param_grid=parameters,\n",
    "                           scoring='accuracy',\n",
    "                           cv=cv_sets,\n",
    "                           n_jobs=6,\n",
    "                           verbose=5)\n",
    "\n",
    "grid_search.fit(features_train, labels_train)\n"
   ]
  },
  {
   "cell_type": "markdown",
   "id": "60b3e546",
   "metadata": {},
   "source": [
    "Let see what is Hyperparameters state after grid search cross-validation:"
   ]
  },
  {
   "cell_type": "code",
   "execution_count": 82,
   "id": "232d0249",
   "metadata": {
    "scrolled": true
   },
   "outputs": [
    {
     "name": "stdout",
     "output_type": "stream",
     "text": [
      "The best hyperparameters after Random Search cross-validation are:\n",
      "{'bootstrap': False,\n",
      " 'max_depth': None,\n",
      " 'max_features': 'auto',\n",
      " 'min_samples_leaf': 1,\n",
      " 'min_samples_split': 11,\n",
      " 'n_estimators': 600}\n",
      "The accuracy of a model is:\n",
      "0.7998711616920765\n"
     ]
    }
   ],
   "source": [
    "print(\"The best hyperparameters after Random Search cross-validation are:\")\n",
    "pprint(grid_search.best_params_)\n",
    "print(\"The accuracy of a model is:\")\n",
    "print(grid_search.best_score_)"
   ]
  },
  {
   "cell_type": "code",
   "execution_count": 83,
   "id": "c1e54b39",
   "metadata": {},
   "outputs": [
    {
     "data": {
      "text/plain": [
       "RandomForestClassifier(bootstrap=False, min_samples_split=11, n_estimators=600,\n",
       "                       random_state=10)"
      ]
     },
     "execution_count": 83,
     "metadata": {},
     "output_type": "execute_result"
    }
   ],
   "source": [
    "best_random_forest_classifier = grid_search.best_estimator_\n",
    "best_random_forest_classifier"
   ]
  },
  {
   "cell_type": "markdown",
   "id": "8358a784",
   "metadata": {},
   "source": [
    "## Model training and evaluation"
   ]
  },
  {
   "cell_type": "code",
   "execution_count": 84,
   "id": "7a1c1a63",
   "metadata": {},
   "outputs": [
    {
     "data": {
      "text/plain": [
       "RandomForestClassifier(bootstrap=False, min_samples_split=11, n_estimators=600,\n",
       "                       random_state=10)"
      ]
     },
     "execution_count": 84,
     "metadata": {},
     "output_type": "execute_result"
    }
   ],
   "source": [
    "best_random_forest_classifier.fit(features_train, labels_train)"
   ]
  },
  {
   "cell_type": "code",
   "execution_count": 85,
   "id": "dcee1094",
   "metadata": {},
   "outputs": [],
   "source": [
    "predictions = best_random_forest_classifier.predict(features_test)"
   ]
  },
  {
   "cell_type": "code",
   "execution_count": 86,
   "id": "39869c44",
   "metadata": {},
   "outputs": [
    {
     "name": "stdout",
     "output_type": "stream",
     "text": [
      "Training set accuracy is: \n",
      "0.9972361987102261\n"
     ]
    }
   ],
   "source": [
    "# Training set accuracy\n",
    "print(\"Training set accuracy is: \")\n",
    "print(accuracy_score(labels_train, best_rfc.predict(features_train)))"
   ]
  },
  {
   "cell_type": "code",
   "execution_count": 87,
   "id": "1036a03c",
   "metadata": {},
   "outputs": [
    {
     "name": "stdout",
     "output_type": "stream",
     "text": [
      "Test set accuracy is: \n",
      "0.8131613756613757\n"
     ]
    }
   ],
   "source": [
    "# Test set accuracy\n",
    "predictions = best_random_forest_classifier.predict(features_test)\n",
    "print(\"Test set accuracy is: \")\n",
    "print(accuracy_score(labels_test, predictions))"
   ]
  },
  {
   "cell_type": "code",
   "execution_count": 88,
   "id": "aafae6c1",
   "metadata": {},
   "outputs": [
    {
     "name": "stdout",
     "output_type": "stream",
     "text": [
      "Classification report\n",
      "              precision    recall  f1-score   support\n",
      "\n",
      "           0       0.75      0.80      0.77       561\n",
      "           1       0.85      0.79      0.82       441\n",
      "           2       0.73      0.69      0.71       712\n",
      "           3       0.79      0.80      0.80       750\n",
      "           4       0.92      0.91      0.91      1131\n",
      "           5       0.78      0.75      0.76       961\n",
      "           6       0.88      0.91      0.89       753\n",
      "           7       0.76      0.81      0.79       739\n",
      "\n",
      "    accuracy                           0.81      6048\n",
      "   macro avg       0.81      0.81      0.81      6048\n",
      "weighted avg       0.81      0.81      0.81      6048\n",
      "\n"
     ]
    }
   ],
   "source": [
    "print(\"Classification report\")\n",
    "print(classification_report(labels_test, predictions))"
   ]
  },
  {
   "cell_type": "markdown",
   "id": "6a16b88c",
   "metadata": {},
   "source": [
    "## Confusion matrix\n",
    "Create confusion matrix to visualize what are the errors of algorithum"
   ]
  },
  {
   "cell_type": "code",
   "execution_count": 89,
   "id": "5605b8f2",
   "metadata": {},
   "outputs": [
    {
     "data": {
      "image/png": "[encoded data removed]",
      "text/plain": [
       "<Figure size 1008x504 with 2 Axes>"
      ]
     },
     "metadata": {
      "needs_background": "light"
     },
     "output_type": "display_data"
    }
   ],
   "source": [
    "\n",
    "conf_matrix = confusion_matrix(labels_test, predictions)\n",
    "\n",
    "plt.figure(figsize=(14,7))\n",
    "plt.title('Confusion matrix')\n",
    "\n",
    "sns.heatmap(\n",
    "    conf_matrix, \n",
    "    xticklabels=df[\"topic\"].unique(), \n",
    "    yticklabels=df[\"topic\"].unique(),\n",
    "    cmap=\"Blues\",\n",
    "    annot=True,\n",
    ")\n",
    "plt.xlabel('Actual')\n",
    "plt.ylabel('Predicted')\n",
    "plt.show()"
   ]
  },
  {
   "cell_type": "code",
   "execution_count": null,
   "id": "397a5753",
   "metadata": {},
   "outputs": [],
   "source": []
  }
 ],
 "metadata": {
  "kernelspec": {
   "display_name": "Python 3 (ipykernel)",
   "language": "python",
   "name": "python3"
  },
  "language_info": {
   "codemirror_mode": {
    "name": "ipython",
    "version": 3
   },
   "file_extension": ".py",
   "mimetype": "text/x-python",
   "name": "python",
   "nbconvert_exporter": "python",
   "pygments_lexer": "ipython3",
   "version": "3.7.4"
  }
 },
 "nbformat": 4,
 "nbformat_minor": 5
}
