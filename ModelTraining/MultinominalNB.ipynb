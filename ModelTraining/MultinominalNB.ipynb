{
 "cells": [
  {
   "cell_type": "markdown",
   "id": "23b4787a",
   "metadata": {},
   "source": [
    "# MultinominalNB"
   ]
  },
  {
   "cell_type": "code",
   "execution_count": 1,
   "id": "eddedf58",
   "metadata": {},
   "outputs": [],
   "source": [
    "import pickle\n",
    "from pprint import pprint\n",
    "\n",
    "from sklearn.feature_extraction.text import TfidfVectorizer\n",
    "from sklearn.naive_bayes import MultinomialNB\n",
    "from sklearn.model_selection import RandomizedSearchCV, GridSearchCV, ShuffleSplit\n",
    "from sklearn.metrics import classification_report, confusion_matrix, accuracy_score\n",
    "\n",
    "import matplotlib.pyplot as plt\n",
    "import seaborn as sns\n",
    "import pandas as pd\n",
    "import numpy as np\n"
   ]
  },
  {
   "cell_type": "markdown",
   "id": "2c928ac4",
   "metadata": {},
   "source": [
    "Load data"
   ]
  },
  {
   "cell_type": "code",
   "execution_count": 2,
   "id": "23694a51",
   "metadata": {},
   "outputs": [],
   "source": [
    "# Dataframe\n",
    "path_df = \"../Pickles/df.pickle\"\n",
    "with open(path_df, 'rb') as data:\n",
    "    df = pickle.load(data)\n",
    "\n",
    "# features_train\n",
    "path_features_train = \"../Pickles/features_train.pickle\"\n",
    "with open(path_features_train, 'rb') as data:\n",
    "    features_train = pickle.load(data)\n",
    "\n",
    "# labels_train\n",
    "path_labels_train = \"../Pickles/labels_train.pickle\"\n",
    "with open(path_labels_train, 'rb') as data:\n",
    "    labels_train = pickle.load(data)\n",
    "\n",
    "# features_test\n",
    "path_features_test = \"../Pickles/features_test.pickle\"\n",
    "with open(path_features_test, 'rb') as data:\n",
    "    features_test = pickle.load(data)\n",
    "\n",
    "# labels_test\n",
    "path_labels_test = \"../Pickles/labels_test.pickle\"\n",
    "with open(path_labels_test, 'rb') as data:\n",
    "    labels_test = pickle.load(data)"
   ]
  },
  {
   "cell_type": "code",
   "execution_count": 3,
   "id": "35091c6d",
   "metadata": {},
   "outputs": [
    {
     "name": "stdout",
     "output_type": "stream",
     "text": [
      "(14811, 1000)\n",
      "(6348, 1000)\n"
     ]
    }
   ],
   "source": [
    "print(features_train.shape)\n",
    "print(features_test.shape)"
   ]
  },
  {
   "cell_type": "markdown",
   "id": "fc344458",
   "metadata": {},
   "source": [
    "## Hyperparameter tuning with cross-validation"
   ]
  },
  {
   "cell_type": "code",
   "execution_count": 4,
   "id": "b5233e49",
   "metadata": {},
   "outputs": [
    {
     "name": "stdout",
     "output_type": "stream",
     "text": [
      "{'alpha': 1.0, 'class_prior': None, 'fit_prior': True}\n"
     ]
    }
   ],
   "source": [
    "classifier = MultinomialNB()\n",
    "pprint(classifier.get_params())"
   ]
  },
  {
   "cell_type": "markdown",
   "id": "25b3ada5",
   "metadata": {},
   "source": [
    "## Hyperparameter tuning with Randomized Search Cross Validatio"
   ]
  },
  {
   "cell_type": "code",
   "execution_count": 5,
   "id": "1b07086f",
   "metadata": {},
   "outputs": [
    {
     "data": {
      "text/plain": [
       "RandomizedSearchCV(cv=3, estimator=MultinomialNB(), n_jobs=-1,\n",
       "                   param_distributions={'alpha': [1e-05, 0.0005, 0.0001, 0.005,\n",
       "                                                  0.001, 0.05, 0.01, 0.1, 0.5,\n",
       "                                                  1, 5, 10, 50, 100]},\n",
       "                   scoring='accuracy')"
      ]
     },
     "execution_count": 5,
     "metadata": {},
     "output_type": "execute_result"
    }
   ],
   "source": [
    "classifier = MultinomialNB()\n",
    "parameters = {'alpha':[0.00001,0.0005, 0.0001,0.005,0.001,0.05,0.01,0.1,0.5,1,5,10,50,100]}\n",
    "random_search = RandomizedSearchCV(classifier, parameters,n_jobs = -1, cv= 3, scoring='accuracy')\n",
    "random_search.fit(features_train, labels_train)"
   ]
  },
  {
   "cell_type": "markdown",
   "id": "b06607ad",
   "metadata": {},
   "source": [
    "Let see the result of Hyperparameter tuning"
   ]
  },
  {
   "cell_type": "code",
   "execution_count": 6,
   "id": "7c68c9c2",
   "metadata": {},
   "outputs": [
    {
     "name": "stdout",
     "output_type": "stream",
     "text": [
      "The best hyperparameters after Random Search cross-validation are:\n",
      "{'alpha': 0.5}\n",
      "The accuracy of a model is:\n",
      "0.8141921544797786\n"
     ]
    }
   ],
   "source": [
    "print(\"The best hyperparameters after Random Search cross-validation are:\")\n",
    "pprint(random_search.best_params_)\n",
    "print(\"The accuracy of a model is:\")\n",
    "print(random_search.best_score_)"
   ]
  },
  {
   "cell_type": "code",
   "execution_count": 7,
   "id": "53871c2e",
   "metadata": {},
   "outputs": [],
   "source": [
    "best_alpha = 0.5"
   ]
  },
  {
   "cell_type": "markdown",
   "id": "79dfcdb1",
   "metadata": {},
   "source": [
    "## Model training and evaluation"
   ]
  },
  {
   "cell_type": "code",
   "execution_count": 8,
   "id": "e14bf8ef",
   "metadata": {},
   "outputs": [],
   "source": [
    "classifier = MultinomialNB(alpha = best_alpha)"
   ]
  },
  {
   "cell_type": "code",
   "execution_count": 9,
   "id": "cb13939d",
   "metadata": {},
   "outputs": [
    {
     "data": {
      "text/plain": [
       "MultinomialNB(alpha=0.5)"
      ]
     },
     "execution_count": 9,
     "metadata": {},
     "output_type": "execute_result"
    }
   ],
   "source": [
    "classifier.fit(features_train, labels_train)"
   ]
  },
  {
   "cell_type": "code",
   "execution_count": 10,
   "id": "eb9dff11",
   "metadata": {},
   "outputs": [
    {
     "name": "stdout",
     "output_type": "stream",
     "text": [
      "The training accuracy is: \n",
      "0.830598879211397\n"
     ]
    }
   ],
   "source": [
    "# Training accuracy\n",
    "print(\"The training accuracy is: \")\n",
    "print(accuracy_score(labels_train, classifier.predict(features_train)))"
   ]
  },
  {
   "cell_type": "code",
   "execution_count": 11,
   "id": "af534f25",
   "metadata": {},
   "outputs": [
    {
     "name": "stdout",
     "output_type": "stream",
     "text": [
      "The test accuracy is: \n",
      "0.8169502205419029\n"
     ]
    }
   ],
   "source": [
    "# Test accuracy\n",
    "predictions = classifier.predict(features_test)\n",
    "print(\"The test accuracy is: \")\n",
    "print(accuracy_score(labels_test, predictions))"
   ]
  },
  {
   "cell_type": "code",
   "execution_count": 12,
   "id": "628f3ba2",
   "metadata": {},
   "outputs": [
    {
     "name": "stdout",
     "output_type": "stream",
     "text": [
      "Classification report\n",
      "              precision    recall  f1-score   support\n",
      "\n",
      "           0       0.78      0.90      0.84       855\n",
      "           1       0.88      0.78      0.83       446\n",
      "           2       0.72      0.69      0.70       705\n",
      "           3       0.79      0.79      0.79       751\n",
      "           4       0.95      0.86      0.91      1110\n",
      "           5       0.72      0.77      0.75       971\n",
      "           6       0.90      0.93      0.92       768\n",
      "           7       0.81      0.75      0.78       742\n",
      "\n",
      "    accuracy                           0.82      6348\n",
      "   macro avg       0.82      0.81      0.81      6348\n",
      "weighted avg       0.82      0.82      0.82      6348\n",
      "\n"
     ]
    }
   ],
   "source": [
    "# Classification report\n",
    "print(\"Classification report\")\n",
    "print(classification_report(labels_test,predictions))"
   ]
  },
  {
   "cell_type": "markdown",
   "id": "ca119849",
   "metadata": {},
   "source": [
    "## Confusion matrix\n",
    "Create confusion matrix to visualize what are the errors of algorithum"
   ]
  },
  {
   "cell_type": "code",
   "execution_count": 13,
   "id": "d9eba509",
   "metadata": {},
   "outputs": [
    {
     "data": {
      "image/png": "[encoded data removed]",
      "text/plain": [
       "<Figure size 1008x504 with 2 Axes>"
      ]
     },
     "metadata": {
      "needs_background": "light"
     },
     "output_type": "display_data"
    }
   ],
   "source": [
    "conf_matrix = confusion_matrix(labels_test, predictions)\n",
    "plt.figure(figsize=(14,7))\n",
    "plt.title('Confusion matrix')\n",
    "\n",
    "sns.heatmap(\n",
    "    conf_matrix, \n",
    "    xticklabels=df['topic'].unique(), \n",
    "    yticklabels=df['topic'].unique(),\n",
    "    cmap=\"Blues\",\n",
    "    annot=True,\n",
    ")\n",
    "plt.xlabel('Actual')\n",
    "plt.ylabel('Predicted')\n",
    "plt.show()"
   ]
  },
  {
   "cell_type": "code",
   "execution_count": null,
   "id": "947a388a",
   "metadata": {},
   "outputs": [],
   "source": []
  }
 ],
 "metadata": {
  "kernelspec": {
   "display_name": "Python 3 (ipykernel)",
   "language": "python",
   "name": "python3"
  },
  "language_info": {
   "codemirror_mode": {
    "name": "ipython",
    "version": 3
   },
   "file_extension": ".py",
   "mimetype": "text/x-python",
   "name": "python",
   "nbconvert_exporter": "python",
   "pygments_lexer": "ipython3",
   "version": "3.7.4"
  }
 },
 "nbformat": 4,
 "nbformat_minor": 5
}
