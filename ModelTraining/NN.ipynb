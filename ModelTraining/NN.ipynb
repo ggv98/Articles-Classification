{
 "cells": [
  {
   "cell_type": "markdown",
   "id": "c41c5f4e",
   "metadata": {},
   "source": [
    "# NN"
   ]
  },
  {
   "cell_type": "code",
   "execution_count": 13,
   "id": "13c1ece3",
   "metadata": {},
   "outputs": [],
   "source": [
    "import pickle\n",
    "from pprint import pprint\n",
    "\n",
    "import tensorflow as tf\n",
    "\n",
    "from sklearn.model_selection import train_test_split\n",
    "from sklearn.naive_bayes import MultinomialNB\n",
    "from sklearn.model_selection import RandomizedSearchCV, GridSearchCV, ShuffleSplit\n",
    "from sklearn.metrics import classification_report, confusion_matrix, accuracy_score\n",
    "import matplotlib.pyplot as plt\n",
    "import seaborn as sns\n",
    "import pandas as pd\n",
    "import numpy as np\n",
    "from keras.models import Sequential\n",
    "from keras import layers\n",
    "from keras.backend import clear_session\n",
    "\n"
   ]
  },
  {
   "cell_type": "markdown",
   "id": "7e015223",
   "metadata": {},
   "source": [
    "#### Import data"
   ]
  },
  {
   "cell_type": "code",
   "execution_count": 14,
   "id": "c2363b27",
   "metadata": {},
   "outputs": [],
   "source": [
    "# Dataframe\n",
    "path_df = \"../Pickles/df.pickle\"\n",
    "with open(path_df, 'rb') as data:\n",
    "    df = pickle.load(data)\n",
    "\n",
    "# features_train\n",
    "path_features_train = \"../Pickles/features_train.pickle\"\n",
    "with open(path_features_train, 'rb') as data:\n",
    "    features_train = pickle.load(data)\n",
    "\n",
    "# labels_train\n",
    "path_labels_train = \"../Pickles/labels_train.pickle\"\n",
    "with open(path_labels_train, 'rb') as data:\n",
    "    labels_train = pickle.load(data)\n",
    "\n",
    "# features_test\n",
    "path_features_test = \"../Pickles/features_test.pickle\"\n",
    "with open(path_features_test, 'rb') as data:\n",
    "    features_test = pickle.load(data)\n",
    "\n",
    "# labels_test\n",
    "path_labels_test = \"../Pickles/labels_test.pickle\"\n",
    "with open(path_labels_test, 'rb') as data:\n",
    "    labels_test = pickle.load(data)\n",
    "    \n"
   ]
  },
  {
   "cell_type": "markdown",
   "id": "162fb0d2",
   "metadata": {},
   "source": [
    "### Remove strings from labels"
   ]
  },
  {
   "cell_type": "code",
   "execution_count": 15,
   "id": "586525f5",
   "metadata": {},
   "outputs": [],
   "source": [
    "labels_train.replace(to_replace='topic',value=2,inplace=True)\n",
    "labels_test.replace(to_replace='topic',value=2,inplace=True)"
   ]
  },
  {
   "cell_type": "markdown",
   "id": "0e1a450a",
   "metadata": {},
   "source": [
    "### Split data"
   ]
  },
  {
   "cell_type": "code",
   "execution_count": 16,
   "id": "d189d96e",
   "metadata": {},
   "outputs": [],
   "source": [
    "features_train, features_validation, labels_train, labels_validation = train_test_split(features_train, \n",
    "                                                    labels_train, \n",
    "                                                    test_size=0.20, \n",
    "                                                    random_state=8)"
   ]
  },
  {
   "cell_type": "markdown",
   "id": "ea38d511",
   "metadata": {},
   "source": [
    "### Model train"
   ]
  },
  {
   "cell_type": "code",
   "execution_count": 29,
   "id": "fd01dd3d",
   "metadata": {},
   "outputs": [
    {
     "name": "stdout",
     "output_type": "stream",
     "text": [
      "Epoch 1/15\n",
      "1185/1185 [==============================] - 2s 1ms/step - loss: 1.1548 - accuracy: 0.7118 - val_loss: 0.6071 - val_accuracy: 0.8265\n",
      "Epoch 2/15\n",
      "1185/1185 [==============================] - 1s 1ms/step - loss: 0.4936 - accuracy: 0.8448 - val_loss: 0.4722 - val_accuracy: 0.8380\n",
      "Epoch 3/15\n",
      "1185/1185 [==============================] - 1s 1ms/step - loss: 0.3958 - accuracy: 0.8661 - val_loss: 0.4388 - val_accuracy: 0.8431\n",
      "Epoch 4/15\n",
      "1185/1185 [==============================] - 1s 1ms/step - loss: 0.3452 - accuracy: 0.8822 - val_loss: 0.4321 - val_accuracy: 0.8407\n",
      "Epoch 5/15\n",
      "1185/1185 [==============================] - 1s 1ms/step - loss: 0.3108 - accuracy: 0.8931 - val_loss: 0.4273 - val_accuracy: 0.8417\n",
      "Epoch 6/15\n",
      "1185/1185 [==============================] - 1s 1ms/step - loss: 0.2838 - accuracy: 0.9029 - val_loss: 0.4332 - val_accuracy: 0.8383\n",
      "Epoch 7/15\n",
      "1185/1185 [==============================] - 1s 1ms/step - loss: 0.2611 - accuracy: 0.9130 - val_loss: 0.4425 - val_accuracy: 0.8383\n",
      "Epoch 8/15\n",
      "1185/1185 [==============================] - 1s 1ms/step - loss: 0.2429 - accuracy: 0.9197 - val_loss: 0.4518 - val_accuracy: 0.8360\n",
      "Epoch 9/15\n",
      "1185/1185 [==============================] - 1s 1ms/step - loss: 0.2252 - accuracy: 0.9238 - val_loss: 0.4676 - val_accuracy: 0.8296\n",
      "Epoch 10/15\n",
      "1185/1185 [==============================] - 2s 1ms/step - loss: 0.2108 - accuracy: 0.9313 - val_loss: 0.4786 - val_accuracy: 0.8269\n",
      "Epoch 11/15\n",
      "1185/1185 [==============================] - 2s 1ms/step - loss: 0.1968 - accuracy: 0.9357 - val_loss: 0.4965 - val_accuracy: 0.8282\n",
      "Epoch 12/15\n",
      "1185/1185 [==============================] - 2s 1ms/step - loss: 0.1843 - accuracy: 0.9416 - val_loss: 0.5102 - val_accuracy: 0.8211\n",
      "Epoch 13/15\n",
      "1185/1185 [==============================] - 1s 1ms/step - loss: 0.1729 - accuracy: 0.9448 - val_loss: 0.5239 - val_accuracy: 0.8232\n",
      "Epoch 14/15\n",
      "1185/1185 [==============================] - 1s 1ms/step - loss: 0.1619 - accuracy: 0.9483 - val_loss: 0.5450 - val_accuracy: 0.8238\n",
      "Epoch 15/15\n",
      "1185/1185 [==============================] - 1s 1ms/step - loss: 0.1517 - accuracy: 0.9548 - val_loss: 0.5653 - val_accuracy: 0.8171\n"
     ]
    }
   ],
   "source": [
    "input_dim = features_train.shape[1]  \n",
    "\n",
    "model = Sequential()\n",
    "model.add(layers.Dense(16, input_dim=input_dim, activation='relu'))\n",
    "model.add(layers.Dense(8, activation='sigmoid'))\n",
    "model.compile(loss='sparse_categorical_crossentropy', \n",
    "               optimizer='adam', \n",
    "               metrics=['accuracy'])\n",
    "clear_session()\n",
    "history = model.fit(features_train, labels_train,\n",
    "                     epochs=15,\n",
    "                     verbose=True,\n",
    "                     validation_data=(features_validation, labels_validation),\n",
    "                     batch_size=10)"
   ]
  },
  {
   "cell_type": "markdown",
   "id": "80ebae70",
   "metadata": {},
   "source": [
    "### Results"
   ]
  },
  {
   "cell_type": "code",
   "execution_count": 30,
   "id": "b32bc753",
   "metadata": {},
   "outputs": [
    {
     "name": "stdout",
     "output_type": "stream",
     "text": [
      "Testing Accuracy:  0.8278\n"
     ]
    }
   ],
   "source": [
    "loss, accuracy = model.evaluate(features_test, labels_test, verbose=False)\n",
    "print(\"Testing Accuracy:  {:.4f}\".format(accuracy))"
   ]
  },
  {
   "cell_type": "code",
   "execution_count": 31,
   "id": "54222a56",
   "metadata": {},
   "outputs": [
    {
     "name": "stdout",
     "output_type": "stream",
     "text": [
      "Classification report\n",
      "100/100 [==============================] - 0s 977us/step\n",
      "              precision    recall  f1-score   support\n",
      "\n",
      "           0       0.83      0.86      0.85       855\n",
      "           1       0.83      0.82      0.82       446\n",
      "           2       0.73      0.70      0.72       705\n",
      "           3       0.78      0.78      0.78       751\n",
      "           4       0.92      0.94      0.93      1110\n",
      "           5       0.78      0.75      0.77       971\n",
      "           6       0.92      0.92      0.92       768\n",
      "           7       0.78      0.80      0.79       742\n",
      "\n",
      "    accuracy                           0.83      6348\n",
      "   macro avg       0.82      0.82      0.82      6348\n",
      "weighted avg       0.83      0.83      0.83      6348\n",
      "\n"
     ]
    }
   ],
   "source": [
    "# Classification report\n",
    "print(\"Classification report\")\n",
    "y_pred = model.predict(features_test, batch_size=64, verbose=1)\n",
    "y_pred_bool = np.argmax(y_pred, axis=1)\n",
    "\n",
    "print(classification_report(labels_test, y_pred_bool))"
   ]
  },
  {
   "cell_type": "markdown",
   "id": "bf1d06fe",
   "metadata": {},
   "source": [
    "## Confusion matrix\n",
    "Create confusion matrix to visualize what are the errors of algorithum"
   ]
  },
  {
   "cell_type": "code",
   "execution_count": 25,
   "id": "e7238506",
   "metadata": {},
   "outputs": [
    {
     "data": {
      "image/png": "[encoded data removed]",
      "text/plain": [
       "<Figure size 1008x504 with 2 Axes>"
      ]
     },
     "metadata": {
      "needs_background": "light"
     },
     "output_type": "display_data"
    }
   ],
   "source": [
    "conf_matrix = confusion_matrix(labels_test, y_pred_bool)\n",
    "plt.figure(figsize=(14,7))\n",
    "plt.title('Confusion matrix')\n",
    "\n",
    "sns.heatmap(\n",
    "    conf_matrix, \n",
    "    xticklabels=df['topic'].unique(), \n",
    "    yticklabels=df['topic'].unique(),\n",
    "    cmap=\"Blues\",\n",
    "    annot=True,\n",
    ")\n",
    "plt.xlabel('Actual')\n",
    "plt.ylabel('Predicted')\n",
    "plt.show()"
   ]
  },
  {
   "cell_type": "code",
   "execution_count": null,
   "id": "8c16ec09",
   "metadata": {},
   "outputs": [],
   "source": []
  }
 ],
 "metadata": {
  "kernelspec": {
   "display_name": "Python 3 (ipykernel)",
   "language": "python",
   "name": "python3"
  },
  "language_info": {
   "codemirror_mode": {
    "name": "ipython",
    "version": 3
   },
   "file_extension": ".py",
   "mimetype": "text/x-python",
   "name": "python",
   "nbconvert_exporter": "python",
   "pygments_lexer": "ipython3",
   "version": "3.9.9"
  }
 },
 "nbformat": 4,
 "nbformat_minor": 5
}
