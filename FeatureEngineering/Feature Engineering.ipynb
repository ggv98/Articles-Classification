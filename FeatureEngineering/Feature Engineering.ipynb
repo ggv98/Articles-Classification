{
 "cells": [
  {
   "cell_type": "markdown",
   "id": "8b8720b2",
   "metadata": {},
   "source": [
    "# Feature Engineering"
   ]
  },
  {
   "cell_type": "markdown",
   "id": "783c9f7c",
   "metadata": {},
   "source": [
    "#### Steps:\n",
    "1. Text Cleaning\n",
    "2. Category Labeling\n",
    "3. Train-test split\n",
    "4. TD-IDF text reprezentation"
   ]
  },
  {
   "cell_type": "code",
   "execution_count": 1,
   "id": "64de2e84",
   "metadata": {},
   "outputs": [],
   "source": [
    "import pickle\n",
    "import pandas as pd\n",
    "from stop_words import safe_get_stop_words\n",
    "from sklearn.feature_extraction.text import TfidfVectorizer\n",
    "from sklearn.model_selection import train_test_split\n",
    "from sklearn.feature_selection import chi2\n",
    "import numpy as np"
   ]
  },
  {
   "cell_type": "code",
   "execution_count": 2,
   "id": "95cd7b01",
   "metadata": {},
   "outputs": [
    {
     "data": {
      "text/html": [
       "<div>\n",
       "<style scoped>\n",
       "    .dataframe tbody tr th:only-of-type {\n",
       "        vertical-align: middle;\n",
       "    }\n",
       "\n",
       "    .dataframe tbody tr th {\n",
       "        vertical-align: top;\n",
       "    }\n",
       "\n",
       "    .dataframe thead th {\n",
       "        text-align: right;\n",
       "    }\n",
       "</style>\n",
       "<table border=\"1\" class=\"dataframe\">\n",
       "  <thead>\n",
       "    <tr style=\"text-align: right;\">\n",
       "      <th></th>\n",
       "      <th>topic</th>\n",
       "      <th>title</th>\n",
       "      <th>text</th>\n",
       "      <th>author</th>\n",
       "      <th>date</th>\n",
       "      <th>visitors</th>\n",
       "      <th>rate</th>\n",
       "      <th>vote_count</th>\n",
       "      <th>key_words</th>\n",
       "    </tr>\n",
       "  </thead>\n",
       "  <tbody>\n",
       "    <tr>\n",
       "      <th>0</th>\n",
       "      <td>Крими</td>\n",
       "      <td>Нова измама: Точат ни банковите карти</td>\n",
       "      <td>Нова измама с източване на кредитни карти върл...</td>\n",
       "      <td>Мария Атанасова</td>\n",
       "      <td>2020-10-19 08:10</td>\n",
       "      <td>26 138</td>\n",
       "      <td>2.4</td>\n",
       "      <td>44.0</td>\n",
       "      <td>['банкови', 'карти', 'банка', 'измама']</td>\n",
       "    </tr>\n",
       "    <tr>\n",
       "      <th>1</th>\n",
       "      <td>Култура</td>\n",
       "      <td>Почина братът на Карлос Сантана</td>\n",
       "      <td>Китаристът Хорхе Сантана, по-младият брат на К...</td>\n",
       "      <td>Венелина Маринова</td>\n",
       "      <td>2020-05-19 10:05</td>\n",
       "      <td>1 538</td>\n",
       "      <td>4.5</td>\n",
       "      <td>2.0</td>\n",
       "      <td>['карлос', 'сантана', 'брат', 'почина', 'хорхе...</td>\n",
       "    </tr>\n",
       "    <tr>\n",
       "      <th>2</th>\n",
       "      <td>Авто</td>\n",
       "      <td>Над 1000 коня за следващото BMW M5</td>\n",
       "      <td>Новото поколение на BMW M5 ще има изцяло елект...</td>\n",
       "      <td>Георги Касабов</td>\n",
       "      <td>2020-06-01 10:06</td>\n",
       "      <td>4 087</td>\n",
       "      <td>3.7</td>\n",
       "      <td>9.0</td>\n",
       "      <td>['bmw', 'm5', '5er', 'g60']</td>\n",
       "    </tr>\n",
       "    <tr>\n",
       "      <th>3</th>\n",
       "      <td>Любопитно</td>\n",
       "      <td>Владо Карамазов пребори коварна диагноза</td>\n",
       "      <td>Театралната и кинозвезда Владимир Карамазов пр...</td>\n",
       "      <td>Събина Андреева</td>\n",
       "      <td>2021-08-20 09:08</td>\n",
       "      <td>8 896</td>\n",
       "      <td>3.5</td>\n",
       "      <td>17.0</td>\n",
       "      <td>['владо', 'карамазов', 'диагноза', 'болест', '...</td>\n",
       "    </tr>\n",
       "    <tr>\n",
       "      <th>4</th>\n",
       "      <td>Крими</td>\n",
       "      <td>Постоянен арест за дрогирания тираджия, предиз...</td>\n",
       "      <td>Окръжен съд - Бургас остави за постоянно в аре...</td>\n",
       "      <td>Мария Атанасова</td>\n",
       "      <td>2020-09-14 18:09</td>\n",
       "      <td>3 518</td>\n",
       "      <td>NaN</td>\n",
       "      <td>0.0</td>\n",
       "      <td>['айтос']</td>\n",
       "    </tr>\n",
       "  </tbody>\n",
       "</table>\n",
       "</div>"
      ],
      "text/plain": [
       "       topic                                              title  \\\n",
       "0      Крими              Нова измама: Точат ни банковите карти   \n",
       "1    Култура                    Почина братът на Карлос Сантана   \n",
       "2       Авто                 Над 1000 коня за следващото BMW M5   \n",
       "3  Любопитно           Владо Карамазов пребори коварна диагноза   \n",
       "4      Крими  Постоянен арест за дрогирания тираджия, предиз...   \n",
       "\n",
       "                                                text             author  \\\n",
       "0  Нова измама с източване на кредитни карти върл...    Мария Атанасова   \n",
       "1  Китаристът Хорхе Сантана, по-младият брат на К...  Венелина Маринова   \n",
       "2  Новото поколение на BMW M5 ще има изцяло елект...     Георги Касабов   \n",
       "3  Театралната и кинозвезда Владимир Карамазов пр...    Събина Андреева   \n",
       "4  Окръжен съд - Бургас остави за постоянно в аре...    Мария Атанасова   \n",
       "\n",
       "               date visitors  rate  vote_count  \\\n",
       "0  2020-10-19 08:10   26 138   2.4        44.0   \n",
       "1  2020-05-19 10:05    1 538   4.5         2.0   \n",
       "2  2020-06-01 10:06    4 087   3.7         9.0   \n",
       "3  2021-08-20 09:08    8 896   3.5        17.0   \n",
       "4  2020-09-14 18:09    3 518   NaN         0.0   \n",
       "\n",
       "                                           key_words  \n",
       "0            ['банкови', 'карти', 'банка', 'измама']  \n",
       "1  ['карлос', 'сантана', 'брат', 'почина', 'хорхе...  \n",
       "2                        ['bmw', 'm5', '5er', 'g60']  \n",
       "3  ['владо', 'карамазов', 'диагноза', 'болест', '...  \n",
       "4                                          ['айтос']  "
      ]
     },
     "execution_count": 2,
     "metadata": {},
     "output_type": "execute_result"
    }
   ],
   "source": [
    "df_path = \"../data/data2.csv\"\n",
    "df = pd.read_csv(df_path)\n",
    "df.head()"
   ]
  },
  {
   "cell_type": "markdown",
   "id": "14049a14",
   "metadata": {},
   "source": [
    "# Text cleaning"
   ]
  },
  {
   "cell_type": "markdown",
   "id": "93178e82",
   "metadata": {},
   "source": [
    "###  Special character cleaning"
   ]
  },
  {
   "cell_type": "code",
   "execution_count": 3,
   "id": "ab4a4487",
   "metadata": {},
   "outputs": [],
   "source": [
    "\n",
    "# \\r and \\n\n",
    "df['text'] = df['text'].str.replace(\"\\r\", \" \")\n",
    "df['text'] = df['text'].str.replace(\"\\n\", \" \")\n",
    "\n",
    "# space\n",
    "df['text'] = df['text'].str.replace(\"    \", \" \")\n",
    "\n",
    "# quote\n",
    "df['text'] = df['text'].str.replace('\"', '')"
   ]
  },
  {
   "cell_type": "markdown",
   "id": "95d3ab1c",
   "metadata": {},
   "source": [
    "### Make all lower case"
   ]
  },
  {
   "cell_type": "code",
   "execution_count": 4,
   "id": "245f2f7d",
   "metadata": {},
   "outputs": [],
   "source": [
    "df['text'] = df['text'].str.lower()"
   ]
  },
  {
   "cell_type": "markdown",
   "id": "37eb90ba",
   "metadata": {},
   "source": [
    "### Remove punctuation "
   ]
  },
  {
   "cell_type": "code",
   "execution_count": 5,
   "id": "383cbb23",
   "metadata": {},
   "outputs": [],
   "source": [
    "punctuation_signs = list([\"?\", \":\", \"!\", \".\", \",\", \";\", \"„\", \"”\"])\n",
    "\n",
    "for punctuation_sign in punctuation_signs:\n",
    "    df['text'] = df['text'].str.replace(punctuation_sign, '', regex=False)"
   ]
  },
  {
   "cell_type": "code",
   "execution_count": 6,
   "id": "6b3d689d",
   "metadata": {},
   "outputs": [
    {
     "data": {
      "text/plain": [
       "'нова измама с източване на кредитни карти върлува из най-голямата платформа за краткосрочно отдаване на имоти airnbnb пише в трудсхемата е изключително проста но ако се вържат на нея собствениците на апартаменти и къщи ще носят наказателна отговорност за разлика от самите измамници предупреждават експерти  всъщност всичко започва с мейл до съответния собственик в който се разказва една и съща история с малка разлика в детайлите  в писмото кандидатът за наемане на съответния имот предлага да резервира собствеността и да преведе пари за ползването ѝ за определен периодно да не ползва реално апартамента или къщата и в резултат на това да получи превод със 75 на сто от предплатените пари обратнов писмата често се гарантира всеки месец така да се плащат 10 000 еврочистата печалба за собственика на имота е 2500 евро като при това той може да отдава и недвижимостите и на други клиенти обясниха собственици на имоти според обясненията на измамниците причината за превъртането на тези пари е че всъщност сумата била платена от работодателя на наемащия но той можел да отседне при приятели и така да спести сумата като в същото време плащайки я за наем през airbnb ще получи документ с който да се отчете пред работодателя сиреално обаче така се изпират пари от крадени кредитни карти алармираха експерти'"
      ]
     },
     "execution_count": 6,
     "metadata": {},
     "output_type": "execute_result"
    }
   ],
   "source": [
    "df.iloc[0]['text']"
   ]
  },
  {
   "cell_type": "code",
   "execution_count": 7,
   "id": "f00bc7a2",
   "metadata": {},
   "outputs": [],
   "source": [
    "digits = list(range(10))\n",
    "\n",
    "for digit in digits:\n",
    "    df['text'] = df['text'].str.replace(str(digit), '', regex=False)"
   ]
  },
  {
   "cell_type": "markdown",
   "id": "c2ba3d86",
   "metadata": {},
   "source": [
    "### Stop words removal"
   ]
  },
  {
   "cell_type": "code",
   "execution_count": 8,
   "id": "34d09f81",
   "metadata": {},
   "outputs": [
    {
     "data": {
      "text/plain": [
       "['а', 'автентичен', 'аз', 'ако', 'ала', 'бе', 'без', 'беше', 'би', 'бивш']"
      ]
     },
     "execution_count": 8,
     "metadata": {},
     "output_type": "execute_result"
    }
   ],
   "source": [
    "stop_words = safe_get_stop_words(\"bulgarian\")\n",
    "# len(stop_words)\n",
    "stop_words[0:10]"
   ]
  },
  {
   "cell_type": "code",
   "execution_count": 9,
   "id": "b4e1198b",
   "metadata": {},
   "outputs": [
    {
     "name": "stderr",
     "output_type": "stream",
     "text": [
      "c:\\users\\georgivankov\\desktop\\ai\\text mining\\venv\\lib\\site-packages\\ipykernel_launcher.py:3: FutureWarning: The default value of regex will change from True to False in a future version.\n",
      "  This is separate from the ipykernel package so we can avoid doing imports until\n"
     ]
    }
   ],
   "source": [
    "for stop_word in stop_words:\n",
    "    stop_word =  \" \" + stop_word + \" \"\n",
    "    df['text'] = df['text'].str.replace(stop_word, ' ')"
   ]
  },
  {
   "cell_type": "code",
   "execution_count": 10,
   "id": "1f8e11d8",
   "metadata": {},
   "outputs": [
    {
     "data": {
      "text/plain": [
       "'нова измама източване кредитни карти върлува най-голямата платформа краткосрочно отдаване имоти airnbnb пише трудсхемата изключително проста вържат собствениците апартаменти къщи носят наказателна отговорност разлика самите измамници предупреждават експерти  всъщност започва мейл съответния собственик разказва съща история малка разлика детайлите  писмото кандидатът наемане съответния имот предлага резервира собствеността преведе пари ползването ѝ определен периодно ползва реално апартамента къщата резултат получи превод  сто предплатените пари обратнов писмата гарантира плащат   еврочистата печалба собственика имота  евро отдава недвижимостите клиенти обясниха собственици имоти обясненията измамниците причината превъртането пари всъщност сумата платена работодателя наемащия можел отседне приятели спести сумата същото плащайки наем airbnb получи документ отчете работодателя сиреално изпират пари крадени кредитни карти алармираха експерти'"
      ]
     },
     "execution_count": 10,
     "metadata": {},
     "output_type": "execute_result"
    }
   ],
   "source": [
    "df.iloc[0]['text']"
   ]
  },
  {
   "cell_type": "markdown",
   "id": "a5c44d1c",
   "metadata": {},
   "source": [
    "## Topic Labeling"
   ]
  },
  {
   "cell_type": "code",
   "execution_count": 11,
   "id": "214d3182",
   "metadata": {},
   "outputs": [],
   "source": [
    "topic_codes = {\n",
    "    \"Бизнес\": 0,\n",
    "    \"Имоти\": 1,\n",
    "    \"Технологии\": 2,\n",
    "    \"Култура\": 3,\n",
    "    'Спорт': 4,\n",
    "    'Любопитно': 5,\n",
    "    \"Крими\": 6,\n",
    "    \"Авто\": 7,\n",
    "    \"topic\":1\n",
    "}\n",
    "# Topic mapping\n",
    "df['topic_code'] = df['topic']\n",
    "df = df.replace({'topic_code':topic_codes})"
   ]
  },
  {
   "cell_type": "code",
   "execution_count": 12,
   "id": "35145da0",
   "metadata": {},
   "outputs": [
    {
     "data": {
      "text/html": [
       "<div>\n",
       "<style scoped>\n",
       "    .dataframe tbody tr th:only-of-type {\n",
       "        vertical-align: middle;\n",
       "    }\n",
       "\n",
       "    .dataframe tbody tr th {\n",
       "        vertical-align: top;\n",
       "    }\n",
       "\n",
       "    .dataframe thead th {\n",
       "        text-align: right;\n",
       "    }\n",
       "</style>\n",
       "<table border=\"1\" class=\"dataframe\">\n",
       "  <thead>\n",
       "    <tr style=\"text-align: right;\">\n",
       "      <th></th>\n",
       "      <th>topic</th>\n",
       "      <th>title</th>\n",
       "      <th>text</th>\n",
       "      <th>author</th>\n",
       "      <th>date</th>\n",
       "      <th>visitors</th>\n",
       "      <th>rate</th>\n",
       "      <th>vote_count</th>\n",
       "      <th>key_words</th>\n",
       "      <th>topic_code</th>\n",
       "    </tr>\n",
       "  </thead>\n",
       "  <tbody>\n",
       "    <tr>\n",
       "      <th>0</th>\n",
       "      <td>Крими</td>\n",
       "      <td>Нова измама: Точат ни банковите карти</td>\n",
       "      <td>нова измама източване кредитни карти върлува н...</td>\n",
       "      <td>Мария Атанасова</td>\n",
       "      <td>2020-10-19 08:10</td>\n",
       "      <td>26 138</td>\n",
       "      <td>2.4</td>\n",
       "      <td>44.0</td>\n",
       "      <td>['банкови', 'карти', 'банка', 'измама']</td>\n",
       "      <td>6</td>\n",
       "    </tr>\n",
       "    <tr>\n",
       "      <th>1</th>\n",
       "      <td>Култура</td>\n",
       "      <td>Почина братът на Карлос Сантана</td>\n",
       "      <td>китаристът хорхе сантана по-младият брат карло...</td>\n",
       "      <td>Венелина Маринова</td>\n",
       "      <td>2020-05-19 10:05</td>\n",
       "      <td>1 538</td>\n",
       "      <td>4.5</td>\n",
       "      <td>2.0</td>\n",
       "      <td>['карлос', 'сантана', 'брат', 'почина', 'хорхе...</td>\n",
       "      <td>3</td>\n",
       "    </tr>\n",
       "    <tr>\n",
       "      <th>2</th>\n",
       "      <td>Авто</td>\n",
       "      <td>Над 1000 коня за следващото BMW M5</td>\n",
       "      <td>новото поколение bmw m изцяло електрическа вер...</td>\n",
       "      <td>Георги Касабов</td>\n",
       "      <td>2020-06-01 10:06</td>\n",
       "      <td>4 087</td>\n",
       "      <td>3.7</td>\n",
       "      <td>9.0</td>\n",
       "      <td>['bmw', 'm5', '5er', 'g60']</td>\n",
       "      <td>7</td>\n",
       "    </tr>\n",
       "    <tr>\n",
       "      <th>3</th>\n",
       "      <td>Любопитно</td>\n",
       "      <td>Владо Карамазов пребори коварна диагноза</td>\n",
       "      <td>театралната кинозвезда владимир карамазов преб...</td>\n",
       "      <td>Събина Андреева</td>\n",
       "      <td>2021-08-20 09:08</td>\n",
       "      <td>8 896</td>\n",
       "      <td>3.5</td>\n",
       "      <td>17.0</td>\n",
       "      <td>['владо', 'карамазов', 'диагноза', 'болест', '...</td>\n",
       "      <td>5</td>\n",
       "    </tr>\n",
       "    <tr>\n",
       "      <th>4</th>\n",
       "      <td>Крими</td>\n",
       "      <td>Постоянен арест за дрогирания тираджия, предиз...</td>\n",
       "      <td>окръжен съд - бургас остави постоянно ареста ш...</td>\n",
       "      <td>Мария Атанасова</td>\n",
       "      <td>2020-09-14 18:09</td>\n",
       "      <td>3 518</td>\n",
       "      <td>NaN</td>\n",
       "      <td>0.0</td>\n",
       "      <td>['айтос']</td>\n",
       "      <td>6</td>\n",
       "    </tr>\n",
       "  </tbody>\n",
       "</table>\n",
       "</div>"
      ],
      "text/plain": [
       "       topic                                              title  \\\n",
       "0      Крими              Нова измама: Точат ни банковите карти   \n",
       "1    Култура                    Почина братът на Карлос Сантана   \n",
       "2       Авто                 Над 1000 коня за следващото BMW M5   \n",
       "3  Любопитно           Владо Карамазов пребори коварна диагноза   \n",
       "4      Крими  Постоянен арест за дрогирания тираджия, предиз...   \n",
       "\n",
       "                                                text             author  \\\n",
       "0  нова измама източване кредитни карти върлува н...    Мария Атанасова   \n",
       "1  китаристът хорхе сантана по-младият брат карло...  Венелина Маринова   \n",
       "2  новото поколение bmw m изцяло електрическа вер...     Георги Касабов   \n",
       "3  театралната кинозвезда владимир карамазов преб...    Събина Андреева   \n",
       "4  окръжен съд - бургас остави постоянно ареста ш...    Мария Атанасова   \n",
       "\n",
       "               date visitors  rate  vote_count  \\\n",
       "0  2020-10-19 08:10   26 138   2.4        44.0   \n",
       "1  2020-05-19 10:05    1 538   4.5         2.0   \n",
       "2  2020-06-01 10:06    4 087   3.7         9.0   \n",
       "3  2021-08-20 09:08    8 896   3.5        17.0   \n",
       "4  2020-09-14 18:09    3 518   NaN         0.0   \n",
       "\n",
       "                                           key_words  topic_code  \n",
       "0            ['банкови', 'карти', 'банка', 'измама']           6  \n",
       "1  ['карлос', 'сантана', 'брат', 'почина', 'хорхе...           3  \n",
       "2                        ['bmw', 'm5', '5er', 'g60']           7  \n",
       "3  ['владо', 'карамазов', 'диагноза', 'болест', '...           5  \n",
       "4                                          ['айтос']           6  "
      ]
     },
     "execution_count": 12,
     "metadata": {},
     "output_type": "execute_result"
    }
   ],
   "source": [
    "df.head()"
   ]
  },
  {
   "cell_type": "markdown",
   "id": "f74b1a04",
   "metadata": {},
   "source": [
    "\n",
    "\n",
    "\n",
    "\n",
    "## Train/Test split"
   ]
  },
  {
   "cell_type": "code",
   "execution_count": 13,
   "id": "22ad6f88",
   "metadata": {},
   "outputs": [],
   "source": [
    "X_train, X_test, y_train, y_test = train_test_split(df['text'], \n",
    "                                                    df['topic_code'], \n",
    "                                                    test_size=0.30, \n",
    "                                                    random_state=8)"
   ]
  },
  {
   "cell_type": "code",
   "execution_count": 15,
   "id": "d315f1df",
   "metadata": {},
   "outputs": [],
   "source": [
    "# X\n",
    "with open('Pickles/X_train.pickle', 'wb') as output:\n",
    "    pickle.dump(X_train, output)\n",
    "    \n",
    "with open('Pickles/X_test.pickle', 'wb') as output:\n",
    "    pickle.dump(X_test, output)\n",
    "    \n",
    "    \n",
    "# Y   \n",
    "with open('Pickles/y_train.pickle', 'wb') as output:\n",
    "    pickle.dump(y_train, output)\n",
    "    \n",
    "with open('Pickles/y_test.pickle', 'wb') as output:\n",
    "    pickle.dump(y_test, output)"
   ]
  },
  {
   "cell_type": "code",
   "execution_count": 16,
   "id": "a4e3f238",
   "metadata": {},
   "outputs": [
    {
     "name": "stdout",
     "output_type": "stream",
     "text": [
      "Test set size: (6348,)\n",
      "Train set size: (14811,)\n"
     ]
    }
   ],
   "source": [
    "print(\"Test set size: \" + str(y_test.shape))\n",
    "print(\"Train set size: \" + str(y_train.shape))"
   ]
  },
  {
   "cell_type": "markdown",
   "id": "7d685b0a",
   "metadata": {},
   "source": [
    "# TD-IDF text reprezentation"
   ]
  },
  {
   "cell_type": "markdown",
   "id": "f2ede188",
   "metadata": {},
   "source": [
    "There is alot of various options:\n",
    "\n",
    "TF-IDF Vectors as features\n",
    "Word Embeddings as features\n",
    "Count Vectors as features\n",
    "\n",
    "\n",
    "We will use TF-IDF Vectors as features.\n"
   ]
  },
  {
   "cell_type": "code",
   "execution_count": 17,
   "id": "141d7017",
   "metadata": {},
   "outputs": [
    {
     "name": "stdout",
     "output_type": "stream",
     "text": [
      "(14811, 1000)\n",
      "(6348, 1000)\n"
     ]
    }
   ],
   "source": [
    "# Parameter election\n",
    "ngram_range = (1,2)\n",
    "min_df = 10\n",
    "max_df = 1.\n",
    "max_features = 1000\n",
    "\n",
    "\n",
    "\n",
    "tfidf = TfidfVectorizer(encoding='utf-8',\n",
    "                        ngram_range=ngram_range,\n",
    "                        stop_words=None,\n",
    "                        lowercase=False,\n",
    "                        max_df=max_df,\n",
    "                        min_df=min_df,\n",
    "                        max_features=max_features,\n",
    "                        norm='l2',\n",
    "                        sublinear_tf=True)\n",
    "                        \n",
    "features_train = tfidf.fit_transform(X_train).toarray()\n",
    "labels_train = y_train\n",
    "print(features_train.shape)\n",
    "\n",
    "features_test = tfidf.transform(X_test).toarray()\n",
    "labels_test = y_test\n",
    "print(features_test.shape)"
   ]
  },
  {
   "cell_type": "code",
   "execution_count": 18,
   "id": "d21a1b20",
   "metadata": {},
   "outputs": [
    {
     "name": "stdout",
     "output_type": "stream",
     "text": [
      "# 'Бизнес' category:\n",
      ". Most correlated unigrams:\n",
      "  . министър\n",
      "  . лв\n",
      "  . сто\n",
      "  . газ\n",
      "  . туризма\n",
      ". Most correlated bigrams:\n",
      "  . публикация споделена\n",
      "  . млн лв\n",
      "\n",
      "# 'Имоти' category:\n",
      ". Most correlated unigrams:\n",
      "  . жилищата\n",
      "  . eur\n",
      "  . жилища\n",
      "  . квм\n",
      "  . имоти\n",
      ". Most correlated bigrams:\n",
      "  . млн лв\n",
      "  . недвижими имоти\n",
      "\n",
      "# 'Технологии' category:\n",
      ". Most correlated unigrams:\n",
      "  . технология\n",
      "  . tesla\n",
      "  . устройства\n",
      "  . apple\n",
      "  . iphone\n",
      ". Most correlated bigrams:\n",
      "  . mercedes benz\n",
      "  . превозни средства\n",
      "\n",
      "# 'Култура' category:\n",
      ". Most correlated unigrams:\n",
      "  . албум\n",
      "  . филмът\n",
      "  . поредицата\n",
      "  . филма\n",
      "  . филм\n",
      ". Most correlated bigrams:\n",
      "  . конски сили\n",
      "  . най добър\n",
      "\n",
      "# 'Спорт' category:\n",
      ". Most correlated unigrams:\n",
      "  . левски\n",
      "  . лига\n",
      "  . клуба\n",
      "  . мача\n",
      "  . цска\n",
      ". Most correlated bigrams:\n",
      "  . публикация споделена\n",
      "  . ата минута\n",
      "\n",
      "# 'Любопитно' category:\n",
      ". Most correlated unigrams:\n",
      "  . post\n",
      "  . певицата\n",
      "  . бъдете\n",
      "  . имате\n",
      "  . пише\n",
      ". Most correlated bigrams:\n",
      "  . shared by\n",
      "  . post shared\n",
      "\n",
      "# 'Крими' category:\n",
      ". Most correlated unigrams:\n",
      "  . досъдебно\n",
      "  . полицията\n",
      "  . задържан\n",
      "  . мъж\n",
      "  . прокуратура\n",
      ". Most correlated bigrams:\n",
      "  . публикация споделена\n",
      "  . досъдебно производство\n",
      "\n",
      "# 'Авто' category:\n",
      ". Most correlated unigrams:\n",
      "  . модела\n",
      "  . автомобили\n",
      "  . мощност\n",
      "  . литров\n",
      "  . конски\n",
      ". Most correlated bigrams:\n",
      "  . въртящ момент\n",
      "  . конски сили\n",
      "\n",
      "# 'topic' category:\n",
      ". Most correlated unigrams:\n",
      "  . жилищата\n",
      "  . eur\n",
      "  . жилища\n",
      "  . квм\n",
      "  . имоти\n",
      ". Most correlated bigrams:\n",
      "  . млн лв\n",
      "  . недвижими имоти\n",
      "\n"
     ]
    }
   ],
   "source": [
    "for topic_name, topic_code in topic_codes.items():\n",
    "    chi2_feature = chi2(features_train, labels_train == topic_code)\n",
    "    indices = np.argsort(chi2_feature[0])\n",
    "    feature_names = np.array(tfidf.get_feature_names_out())[indices]\n",
    "    unigrams = [v for v in feature_names if len(v.split(' ')) == 1]\n",
    "    bigrams = [v for v in feature_names if len(v.split(' ')) == 2]\n",
    "    print(\"# '{}' category:\".format(topic_name))\n",
    "    print(\". Most correlated unigrams:\\n  . {}\".format('\\n  . '.join(unigrams[-5:])))\n",
    "    print(\". Most correlated bigrams:\\n  . {}\".format('\\n  . '.join(bigrams[-2:])))\n",
    "    print(\"\")"
   ]
  },
  {
   "cell_type": "code",
   "execution_count": 19,
   "id": "ce4db8bf",
   "metadata": {},
   "outputs": [
    {
     "name": "stdout",
     "output_type": "stream",
     "text": [
      "Unigram count: 967\n",
      "Bigram count: 33\n"
     ]
    }
   ],
   "source": [
    "tfidf.get_feature_names_out()\n",
    "unigrams = [v for v in feature_names if len(v.split(' ')) == 1]\n",
    "bigrams = [v for v in feature_names if len(v.split(' ')) == 2]\n",
    "\n",
    "print(\"Unigram count: \" + str(len(unigrams)))\n",
    "print(\"Bigram count: \" + str(len(bigrams)))"
   ]
  },
  {
   "cell_type": "markdown",
   "id": "d3fa1b8c",
   "metadata": {},
   "source": [
    "As we can see, the unigrams fits well to the topics. However, bigrams do not fit well. There are only 34. This means the unigrams have more correlation with the topics than the bigrams, and only a few bigrams will be considered"
   ]
  },
  {
   "cell_type": "code",
   "execution_count": 20,
   "id": "694fb264",
   "metadata": {},
   "outputs": [],
   "source": [
    "# X\n",
    "with open('Pickles/X_train.pickle', 'wb') as output:\n",
    "    pickle.dump(X_train, output)\n",
    "    \n",
    "with open('Pickles/X_test.pickle', 'wb') as output:\n",
    "    pickle.dump(X_test, output)\n",
    "    \n",
    "    \n",
    "# Y   \n",
    "with open('Pickles/y_train.pickle', 'wb') as output:\n",
    "    pickle.dump(y_train, output)\n",
    "    \n",
    "with open('Pickles/y_test.pickle', 'wb') as output:\n",
    "    pickle.dump(y_test, output)\n",
    "\n",
    "\n",
    "# FEATURES\n",
    "with open('Pickles/features_train.pickle', 'wb') as output:\n",
    "    pickle.dump(features_train, output)\n",
    "\n",
    "with open('Pickles/features_test.pickle', 'wb') as output:\n",
    "    pickle.dump(features_test, output)\n",
    "\n",
    "\n",
    "# LABELS\n",
    "with open('Pickles/labels_train.pickle', 'wb') as output:\n",
    "    pickle.dump(labels_train, output)\n",
    "\n",
    "with open('Pickles/labels_test.pickle', 'wb') as output:\n",
    "    pickle.dump(labels_test, output)\n",
    "\n",
    "    \n",
    "# DF   \n",
    "with open('Pickles/df.pickle', 'wb') as output:\n",
    "    pickle.dump(df, output) \n",
    "\n",
    "\n",
    "# TF-IDF\n",
    "with open('Pickles/tfidf.pickle', 'wb') as output:\n",
    "    pickle.dump(tfidf, output)"
   ]
  }
 ],
 "metadata": {
  "kernelspec": {
   "display_name": "Python 3 (ipykernel)",
   "language": "python",
   "name": "python3"
  },
  "language_info": {
   "codemirror_mode": {
    "name": "ipython",
    "version": 3
   },
   "file_extension": ".py",
   "mimetype": "text/x-python",
   "name": "python",
   "nbconvert_exporter": "python",
   "pygments_lexer": "ipython3",
   "version": "3.7.4"
  }
 },
 "nbformat": 4,
 "nbformat_minor": 5
}
